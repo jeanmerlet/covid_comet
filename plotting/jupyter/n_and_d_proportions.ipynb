{
 "cells": [
  {
   "cell_type": "code",
   "execution_count": 7,
   "id": "behavioral-saver",
   "metadata": {},
   "outputs": [],
   "source": [
    "import matplotlib.pyplot as plt\n",
    "import pandas as pd\n",
    "import numpy as np\n",
    "import os"
   ]
  },
  {
   "cell_type": "code",
   "execution_count": 8,
   "id": "respiratory-scene",
   "metadata": {},
   "outputs": [],
   "source": [
    "data_dir = '/Users/6j9/projects/sars_cov2-geospatial/data/n_and_d_proportions'"
   ]
  },
  {
   "cell_type": "code",
   "execution_count": 15,
   "id": "northern-retail",
   "metadata": {},
   "outputs": [],
   "source": [
    "count_names = []\n",
    "for r, d, f in os.walk(data_dir):\n",
    "    for tsv in f:\n",
    "        if '.tsv' in tsv:\n",
    "            count_names.append(os.path.join(r, tsv))\n",
    "\n",
    "bin_width = 0.001\n",
    "bins = np.arange(bin_width, 1 + 2*bin_width, bin_width)\n",
    "col_names = [str(round(x, 4)) for x in bins]\n",
    "all_d_props = pd.DataFrame(data=np.zeros((len(count_names), len(col_names)), dtype=int), columns=col_names)\n",
    "all_n_props = pd.DataFrame(data=np.zeros((len(count_names), len(col_names)), dtype=int), columns=col_names)\n",
    "\n",
    "for i, count_file in enumerate(count_names):\n",
    "    props = pd.read_csv(count_file, sep='\\t', index_col=None, header=0)\n",
    "    d_props, d_counts = np.unique(props['d_count'], return_counts=True)\n",
    "    n_props, n_counts = np.unique(props['n_count'], return_counts=True)\n",
    "    for n in range(len(d_props)):\n",
    "        col_idx = int(d_props[n] / bin_width)\n",
    "        all_d_props.iloc[i, col_idx] += d_counts[n]\n",
    "    for n in range(len(n_props)):\n",
    "        col_idx = int(n_props[n] / bin_width)\n",
    "        all_n_props.iloc[i, col_idx] += n_counts[n]\n",
    "        \n",
    "all_d_sums = np.sum(all_d_props, axis=0)\n",
    "all_n_sums = np.sum(all_n_props, axis=0)\n",
    "all_prop_sums = [all_d_sums, all_n_sums]"
   ]
  },
  {
   "cell_type": "markdown",
   "id": "coordinated-printing",
   "metadata": {},
   "source": [
    "# Deletions"
   ]
  },
  {
   "cell_type": "code",
   "execution_count": 114,
   "id": "incorrect-lawrence",
   "metadata": {},
   "outputs": [],
   "source": [
    "np.set_printoptions(suppress=True)"
   ]
  },
  {
   "cell_type": "code",
   "execution_count": 127,
   "id": "inner-operation",
   "metadata": {},
   "outputs": [],
   "source": [
    "start = 0\n",
    "deletions = np.zeros(np.sum(all_d_sums[start:]))\n",
    "total_seqs = np.sum(all_d_sums[start:])\n",
    "idx = 0\n",
    "for i in range(len(all_d_sums[start:])):\n",
    "    for j in range(all_d_sums[start:][i]):\n",
    "        deletions[j + idx] = float(all_d_sums[start:].index[i]) * 30000\n",
    "    idx += all_d_sums[start:][i]"
   ]
  },
  {
   "cell_type": "code",
   "execution_count": 128,
   "id": "fiscal-expansion",
   "metadata": {},
   "outputs": [
    {
     "data": {
      "text/plain": [
       "(array([   30.,    60.,    90.,   120.,   150.,   180.,   210.,   240.,\n",
       "          270.,   300.,   330.,   360.,   390.,   420.,   450.,   480.,\n",
       "          510.,   540.,   570.,   600.,   630.,   660.,   690.,   720.,\n",
       "          750.,   780.,   810.,   840.,   870.,   900.,   930.,   960.,\n",
       "          990.,  1020.,  1050.,  1080.,  1110.,  1140.,  1170.,  1200.,\n",
       "         1230.,  1260.,  1290.,  1320.,  1350.,  1380.,  1410.,  1440.,\n",
       "         1470.,  1500.,  1530.,  1560.,  1590.,  1620.,  1650.,  1680.,\n",
       "         1710.,  1740.,  1770.,  1800.,  1830.,  1890.,  1920.,  2010.,\n",
       "         2070.,  2100.,  2160.,  2220.,  2490.,  2550.,  2580.,  2760.,\n",
       "         2790.,  2850.,  2880.,  2910.,  3150.,  3180.,  3360.,  3540.,\n",
       "         3900.,  3930.,  3960.,  4230.,  4350.,  4380.,  4590.,  4860.,\n",
       "         5250.,  5280.,  5310.,  5610.,  5940.,  7140.,  8370.,  8850.,\n",
       "         9300.,  9390., 11610., 11850., 15300., 16290., 16680., 18960.,\n",
       "        21600., 23310., 23460., 23670., 23850., 24000., 25080., 25620.,\n",
       "        25680., 25710., 25740., 25770., 25800., 25830., 25890., 25980.,\n",
       "        26010., 26190., 26220., 26250., 26520., 26790., 26940., 26970.,\n",
       "        27000., 27030., 27180., 27420., 27480., 27630., 27720., 27810.,\n",
       "        27900., 27960., 28050., 28080., 28110., 28140., 28170., 28410.,\n",
       "        28440., 28470., 28680., 28710., 28740., 28770., 28800., 28860.,\n",
       "        28890., 28920., 28950., 28980., 29040., 29070., 29100., 29130.,\n",
       "        29160., 29190., 29220., 29250., 29280., 29310., 29340., 29370.,\n",
       "        29400., 29430., 29460., 29490., 29520., 29550., 29580., 29610.,\n",
       "        29640., 29670., 29700., 29730., 29760., 29790., 29820., 29850.,\n",
       "        29880., 29910., 29940., 30030.]),\n",
       " array([ 82858, 114388, 103936,  87867, 429935,  19736,  28014,  13036,\n",
       "          7801,   4580,   2055,    826,   6801,   1518,   2370,    350,\n",
       "          1770,    199,    158,    411,    224,     63,     52,     83,\n",
       "            57,     66,     38,     26,     26,     21,     15,     23,\n",
       "            81,     71,     27,     23,     20,     20,     52,     12,\n",
       "            18,     14,     26,      8,     12,     10,      9,      7,\n",
       "             5,      6,     12,     11,     10,      6,     15,      2,\n",
       "             2,      1,      2,      2,      1,      5,      1,      1,\n",
       "             5,      6,      1,      1,      1,      2,      3,      1,\n",
       "             3,      1,      1,      1,      5,      1,      2,      1,\n",
       "             2,      1,      1,      2,      5,      1,      1,      1,\n",
       "             2,      1,      2,      1,      1,      1,      1,      1,\n",
       "             1,      1,      1,      1,      1,      1,      1,      1,\n",
       "             1,      1,      3,      1,      1,      1,      1,      1,\n",
       "             1,      2,      2,     34,      8,      1,      2,      1,\n",
       "            28,   1422,      6,      2,      2,      2,      3,     24,\n",
       "            25,      5,      3,      8,      2,      1,      1,      1,\n",
       "             2,      2,      2,      6,      7,      1,      1,      8,\n",
       "            29,      2,     10,     10,     28,      1,      1,      1,\n",
       "            21,      6,     44,      3,     67,    195,    237,    438,\n",
       "           214,     55,     79,     80,     38,     53,    121,     82,\n",
       "            31,     29,     38,     38,      8,      6,      4,     42,\n",
       "            46,     56,     20,     22,      3,     38,    138,     31,\n",
       "            10,     10,     11,     11]))"
      ]
     },
     "execution_count": 128,
     "metadata": {},
     "output_type": "execute_result"
    }
   ],
   "source": [
    "np.unique(deletions, return_counts=True)"
   ]
  },
  {
   "cell_type": "code",
   "execution_count": 154,
   "id": "aggregate-chassis",
   "metadata": {},
   "outputs": [
    {
     "data": {
      "image/png": "[encoded data removed]",
      "text/plain": [
       "<Figure size 864x576 with 1 Axes>"
      ]
     },
     "metadata": {
      "needs_background": "light"
     },
     "output_type": "display_data"
    }
   ],
   "source": [
    "fig, ax = plt.subplots(figsize=(12, 8))\n",
    "\n",
    "ax.hist(deletions, bins=60)\n",
    "#ax.set_title('Deletions In Sequences', size=20)\n",
    "\n",
    "plt.setp(ax.get_xticklabels(), fontsize=14)\n",
    "ax.set_xlabel('Number of Deletions', size=18)\n",
    "\n",
    "yticks = np.arange(0, 1100000, 100000)\n",
    "ax.set_yticks(yticks)\n",
    "ax.set_yticklabels(yticks, size=14)\n",
    "ax.set_ylabel('(log) Count of Sequences', size=18)\n",
    "ax.set_ylim(0, 3000)\n",
    "#ax.set_yscale('log')\n",
    "\n",
    "plt.tight_layout()\n",
    "#plt.savefig('/Users/6j9/projects/sars_cov2-geospatial/data/qual/deletions.png', dpi=300)\n",
    "plt.show()"
   ]
  },
  {
   "cell_type": "markdown",
   "id": "piano-amsterdam",
   "metadata": {},
   "source": [
    "# Ns"
   ]
  },
  {
   "cell_type": "code",
   "execution_count": 53,
   "id": "gothic-mountain",
   "metadata": {},
   "outputs": [
    {
     "data": {
      "text/plain": [
       "0.001    737910\n",
       "0.002     30962\n",
       "0.003     16581\n",
       "0.004     15908\n",
       "0.005     15221\n",
       "          ...  \n",
       "0.998         0\n",
       "0.999         0\n",
       "1.0           0\n",
       "1.001         0\n",
       "1.002         0\n",
       "Length: 1002, dtype: int64"
      ]
     },
     "execution_count": 53,
     "metadata": {},
     "output_type": "execute_result"
    }
   ],
   "source": [
    "all_n_sums"
   ]
  },
  {
   "cell_type": "code",
   "execution_count": 103,
   "id": "ordinary-performance",
   "metadata": {},
   "outputs": [
    {
     "data": {
      "text/plain": [
       "1744"
      ]
     },
     "execution_count": 103,
     "metadata": {},
     "output_type": "execute_result"
    }
   ],
   "source": [
    "np.sum(all_n_sums[10:])"
   ]
  },
  {
   "cell_type": "code",
   "execution_count": null,
   "id": "decreased-islam",
   "metadata": {},
   "outputs": [],
   "source": []
  },
  {
   "cell_type": "code",
   "execution_count": 92,
   "id": "according-darwin",
   "metadata": {},
   "outputs": [],
   "source": [
    "#all_n_sums = all_n_sums[1:]\n",
    "hist_test = np.zeros(np.sum(all_n_sums))\n",
    "idx = 0\n",
    "for i in range(len(all_n_sums)):\n",
    "    for j in range(all_n_sums[i]):\n",
    "        hist_test[j + idx] = float(all_n_sums.index[i])\n",
    "    idx += all_n_sums[i]"
   ]
  },
  {
   "cell_type": "code",
   "execution_count": 96,
   "id": "mineral-static",
   "metadata": {},
   "outputs": [
    {
     "data": {
      "image/png": "[encoded data removed]",
      "text/plain": [
       "<Figure size 864x576 with 1 Axes>"
      ]
     },
     "metadata": {
      "needs_background": "light"
     },
     "output_type": "display_data"
    }
   ],
   "source": [
    "fig, ax = plt.subplots(figsize=(12, 8))\n",
    "\n",
    "ax.hist(hist_test, bins=40)\n",
    "#ax.set_yscale('log')\n",
    "\n",
    "plt.show()"
   ]
  },
  {
   "cell_type": "code",
   "execution_count": 43,
   "id": "devoted-builder",
   "metadata": {},
   "outputs": [],
   "source": [
    "total_seq_num = np.sum(all_d_sums)\n",
    "cumulative_d = []\n",
    "cumulative_n = []\n",
    "do_print = True\n",
    "for i in range(start, end):\n",
    "    num_d_skipped = np.sum(all_d_sums[:i])\n",
    "    num_n_skipped = np.sum(all_n_sums[:i])\n",
    "    diff_d = total_seq_num - num_d_skipped\n",
    "    diff_n = total_seq_num - num_n_skipped\n",
    "    cumulative_d.append(diff_d)\n",
    "    cumulative_n.append(diff_n)\n",
    "    if do_print:\n",
    "        pct_del = str(round(bins[i] * 100, 2))\n",
    "        #print(f'# sequences with greater than {pct_del}% deletions: {diff_d}')\n",
    "        #print(f'# sequences with greater than {pct_del}% Ns: {diff_n}')\n",
    "        #print('')\n",
    "\n",
    "cums = [cumulative_d, cumulative_n]\n"
   ]
  },
  {
   "cell_type": "code",
   "execution_count": 72,
   "id": "loose-kennedy",
   "metadata": {},
   "outputs": [],
   "source": [
    "start = 0\n",
    "end = 11"
   ]
  },
  {
   "cell_type": "markdown",
   "id": "aboriginal-defense",
   "metadata": {},
   "source": [
    "## Bar Plot"
   ]
  },
  {
   "cell_type": "code",
   "execution_count": 70,
   "id": "herbal-berlin",
   "metadata": {},
   "outputs": [
    {
     "data": {
      "image/png": "[encoded data removed]",
      "text/plain": [
       "<Figure size 864x576 with 1 Axes>"
      ]
     },
     "metadata": {
      "needs_background": "light"
     },
     "output_type": "display_data"
    }
   ],
   "source": [
    "start, end = 100, 1001\n",
    "tick_interval = 100\n",
    "x_ticks = np.arange(start, end, tick_interval)\n",
    "plot_bins = np.arange(0, 1 + bin_width, bin_width)\n",
    "x_tick_labels = [str(round(plot_bins[x] * 100, 2)) for x in range(start, end, tick_interval)]\n",
    "\n",
    "fig, ax = plt.subplots(figsize=(12, 8))\n",
    "\n",
    "ax.bar(np.arange(len(all_n_sums[start:end])), all_n_sums[start:end], width=1.0)\n",
    "ax.set_xticks(x_ticks)\n",
    "ax.set_xticklabels(x_tick_labels, size=14)\n",
    "#ax.set_yscale('log')\n",
    "\n",
    "plt.show()"
   ]
  },
  {
   "cell_type": "markdown",
   "id": "corporate-dairy",
   "metadata": {},
   "source": [
    "## Cumulative Proportion"
   ]
  },
  {
   "cell_type": "code",
   "execution_count": 52,
   "id": "thick-design",
   "metadata": {},
   "outputs": [
    {
     "data": {
      "image/png": "[encoded data removed]",
      "text/plain": [
       "<Figure size 864x576 with 1 Axes>"
      ]
     },
     "metadata": {
      "needs_background": "light"
     },
     "output_type": "display_data"
    }
   ],
   "source": [
    "tick_interval = 1\n",
    "x_ticks = np.arange(0, len(cumulative_n), tick_interval)\n",
    "plot_bins = np.arange(0, 1 + bin_width, bin_width)\n",
    "x_tick_labels = [str(round(plot_bins[x] * 100, 2)) for x in range(start, end, tick_interval)]\n",
    "\n",
    "fig, ax = plt.subplots(figsize=(12, 8))\n",
    "\n",
    "ax.plot(cumulative_n)\n",
    "ax.set_title('Sequences with Greater Than x% Ns', size=20)\n",
    "\n",
    "ax.set_xticks(x_ticks)\n",
    "ax.set_xticklabels(x_tick_labels, size=14)\n",
    "ax.set_xlabel('Percent Ns in Sequence', size=16)\n",
    "\n",
    "yticks = np.arange(0, 1100000, 100000)\n",
    "ax.set_yticks(yticks)\n",
    "ax.set_yticklabels(yticks, size=14)\n",
    "ax.set_ylabel('Number of Sequences', size=16)\n",
    "\n",
    "fig.tight_layout()\n",
    "plt.show()"
   ]
  },
  {
   "cell_type": "code",
   "execution_count": null,
   "id": "foreign-rubber",
   "metadata": {},
   "outputs": [],
   "source": []
  }
 ],
 "metadata": {
  "kernelspec": {
   "display_name": "Python 3",
   "language": "python",
   "name": "python3"
  },
  "language_info": {
   "codemirror_mode": {
    "name": "ipython",
    "version": 3
   },
   "file_extension": ".py",
   "mimetype": "text/x-python",
   "name": "python",
   "nbconvert_exporter": "python",
   "pygments_lexer": "ipython3",
   "version": "3.9.2"
  }
 },
 "nbformat": 4,
 "nbformat_minor": 5
}
