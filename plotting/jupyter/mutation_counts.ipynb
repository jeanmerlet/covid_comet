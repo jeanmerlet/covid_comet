{
 "cells": [
  {
   "cell_type": "code",
   "execution_count": 1,
   "id": "textile-favorite",
   "metadata": {},
   "outputs": [],
   "source": [
    "import pandas as pd\n",
    "import matplotlib.pyplot as plt\n",
    "import numpy as np\n",
    "import os, re, time"
   ]
  },
  {
   "cell_type": "code",
   "execution_count": 2,
   "id": "casual-relaxation",
   "metadata": {},
   "outputs": [
    {
     "data": {
      "text/html": [
       "<div>\n",
       "<style scoped>\n",
       "    .dataframe tbody tr th:only-of-type {\n",
       "        vertical-align: middle;\n",
       "    }\n",
       "\n",
       "    .dataframe tbody tr th {\n",
       "        vertical-align: top;\n",
       "    }\n",
       "\n",
       "    .dataframe thead th {\n",
       "        text-align: right;\n",
       "    }\n",
       "</style>\n",
       "<table border=\"1\" class=\"dataframe\">\n",
       "  <thead>\n",
       "    <tr style=\"text-align: right;\">\n",
       "      <th></th>\n",
       "      <th>1</th>\n",
       "      <th>2</th>\n",
       "      <th>3</th>\n",
       "      <th>4</th>\n",
       "      <th>5</th>\n",
       "      <th>6</th>\n",
       "      <th>7</th>\n",
       "      <th>8</th>\n",
       "      <th>9</th>\n",
       "      <th>10</th>\n",
       "      <th>...</th>\n",
       "      <th>29315</th>\n",
       "      <th>29316</th>\n",
       "      <th>29317</th>\n",
       "      <th>29318</th>\n",
       "      <th>29319</th>\n",
       "      <th>29320</th>\n",
       "      <th>29321</th>\n",
       "      <th>29322</th>\n",
       "      <th>29323</th>\n",
       "      <th>29324</th>\n",
       "    </tr>\n",
       "    <tr>\n",
       "      <th>0</th>\n",
       "      <th></th>\n",
       "      <th></th>\n",
       "      <th></th>\n",
       "      <th></th>\n",
       "      <th></th>\n",
       "      <th></th>\n",
       "      <th></th>\n",
       "      <th></th>\n",
       "      <th></th>\n",
       "      <th></th>\n",
       "      <th></th>\n",
       "      <th></th>\n",
       "      <th></th>\n",
       "      <th></th>\n",
       "      <th></th>\n",
       "      <th></th>\n",
       "      <th></th>\n",
       "      <th></th>\n",
       "      <th></th>\n",
       "      <th></th>\n",
       "      <th></th>\n",
       "    </tr>\n",
       "  </thead>\n",
       "  <tbody>\n",
       "    <tr>\n",
       "      <th>a</th>\n",
       "      <td>491</td>\n",
       "      <td>769</td>\n",
       "      <td>246</td>\n",
       "      <td>106</td>\n",
       "      <td>8591</td>\n",
       "      <td>16</td>\n",
       "      <td>0</td>\n",
       "      <td>59</td>\n",
       "      <td>491</td>\n",
       "      <td>432</td>\n",
       "      <td>...</td>\n",
       "      <td>0</td>\n",
       "      <td>0</td>\n",
       "      <td>230</td>\n",
       "      <td>712</td>\n",
       "      <td>16</td>\n",
       "      <td>16</td>\n",
       "      <td>0</td>\n",
       "      <td>0</td>\n",
       "      <td>14</td>\n",
       "      <td>289</td>\n",
       "    </tr>\n",
       "    <tr>\n",
       "      <th>c</th>\n",
       "      <td>17</td>\n",
       "      <td>0</td>\n",
       "      <td>105</td>\n",
       "      <td>0</td>\n",
       "      <td>45</td>\n",
       "      <td>387</td>\n",
       "      <td>46</td>\n",
       "      <td>0</td>\n",
       "      <td>3</td>\n",
       "      <td>553</td>\n",
       "      <td>...</td>\n",
       "      <td>41</td>\n",
       "      <td>61</td>\n",
       "      <td>0</td>\n",
       "      <td>123</td>\n",
       "      <td>614</td>\n",
       "      <td>148</td>\n",
       "      <td>4</td>\n",
       "      <td>59</td>\n",
       "      <td>690</td>\n",
       "      <td>0</td>\n",
       "    </tr>\n",
       "    <tr>\n",
       "      <th>g</th>\n",
       "      <td>0</td>\n",
       "      <td>20</td>\n",
       "      <td>58</td>\n",
       "      <td>72</td>\n",
       "      <td>0</td>\n",
       "      <td>0</td>\n",
       "      <td>199</td>\n",
       "      <td>4</td>\n",
       "      <td>0</td>\n",
       "      <td>49</td>\n",
       "      <td>...</td>\n",
       "      <td>561</td>\n",
       "      <td>37</td>\n",
       "      <td>116</td>\n",
       "      <td>30</td>\n",
       "      <td>26</td>\n",
       "      <td>0</td>\n",
       "      <td>267</td>\n",
       "      <td>258</td>\n",
       "      <td>149</td>\n",
       "      <td>23</td>\n",
       "    </tr>\n",
       "    <tr>\n",
       "      <th>t</th>\n",
       "      <td>2477</td>\n",
       "      <td>4127</td>\n",
       "      <td>0</td>\n",
       "      <td>21128</td>\n",
       "      <td>540</td>\n",
       "      <td>0</td>\n",
       "      <td>2</td>\n",
       "      <td>999</td>\n",
       "      <td>461</td>\n",
       "      <td>0</td>\n",
       "      <td>...</td>\n",
       "      <td>342</td>\n",
       "      <td>32</td>\n",
       "      <td>5403</td>\n",
       "      <td>0</td>\n",
       "      <td>0</td>\n",
       "      <td>0</td>\n",
       "      <td>278</td>\n",
       "      <td>25</td>\n",
       "      <td>0</td>\n",
       "      <td>14303</td>\n",
       "    </tr>\n",
       "    <tr>\n",
       "      <th>-</th>\n",
       "      <td>18861</td>\n",
       "      <td>18823</td>\n",
       "      <td>12624</td>\n",
       "      <td>12617</td>\n",
       "      <td>12609</td>\n",
       "      <td>12593</td>\n",
       "      <td>12575</td>\n",
       "      <td>12567</td>\n",
       "      <td>12548</td>\n",
       "      <td>12543</td>\n",
       "      <td>...</td>\n",
       "      <td>56815</td>\n",
       "      <td>57008</td>\n",
       "      <td>57094</td>\n",
       "      <td>57432</td>\n",
       "      <td>57620</td>\n",
       "      <td>58180</td>\n",
       "      <td>58504</td>\n",
       "      <td>58216</td>\n",
       "      <td>58339</td>\n",
       "      <td>69867</td>\n",
       "    </tr>\n",
       "  </tbody>\n",
       "</table>\n",
       "<p>5 rows × 29324 columns</p>\n",
       "</div>"
      ],
      "text/plain": [
       "   1      2      3      4      5      6      7      8      9      10     ...  \\\n",
       "0                                                                        ...   \n",
       "a    491    769    246    106   8591     16      0     59    491    432  ...   \n",
       "c     17      0    105      0     45    387     46      0      3    553  ...   \n",
       "g      0     20     58     72      0      0    199      4      0     49  ...   \n",
       "t   2477   4127      0  21128    540      0      2    999    461      0  ...   \n",
       "-  18861  18823  12624  12617  12609  12593  12575  12567  12548  12543  ...   \n",
       "\n",
       "   29315  29316  29317  29318  29319  29320  29321  29322  29323  29324  \n",
       "0                                                                        \n",
       "a      0      0    230    712     16     16      0      0     14    289  \n",
       "c     41     61      0    123    614    148      4     59    690      0  \n",
       "g    561     37    116     30     26      0    267    258    149     23  \n",
       "t    342     32   5403      0      0      0    278     25      0  14303  \n",
       "-  56815  57008  57094  57432  57620  58180  58504  58216  58339  69867  \n",
       "\n",
       "[5 rows x 29324 columns]"
      ]
     },
     "execution_count": 2,
     "metadata": {},
     "output_type": "execute_result"
    }
   ],
   "source": [
    "path = '/Users/6j9/projects/sars_cov_2_geo/data/combined_all_2022_06_02/combined_mutation_counts.tsv'\n",
    "counts = pd.read_csv(path, sep='\\t', header=None, index_col=0)\n",
    "counts = counts.iloc[:-1, :].astype(float).astype(int)\n",
    "counts"
   ]
  },
  {
   "cell_type": "code",
   "execution_count": 3,
   "id": "shared-powell",
   "metadata": {},
   "outputs": [
    {
     "name": "stdout",
     "output_type": "stream",
     "text": [
      "0\n",
      "1000\n",
      "2000\n",
      "3000\n",
      "4000\n",
      "5000\n",
      "6000\n",
      "7000\n",
      "8000\n",
      "9000\n",
      "10000\n"
     ]
    }
   ],
   "source": [
    "num_nucleotides = []\n",
    "for n in range(0, 10001):\n",
    "    if n % 1000 == 0: print(n)\n",
    "    num_nucleotides.append(np.count_nonzero((counts >= n).any(axis=0)))"
   ]
  },
  {
   "cell_type": "code",
   "execution_count": 4,
   "id": "automated-abortion",
   "metadata": {},
   "outputs": [
    {
     "data": {
      "image/png": "[encoded data removed]",
      "text/plain": [
       "<Figure size 864x576 with 1 Axes>"
      ]
     },
     "metadata": {
      "needs_background": "light"
     },
     "output_type": "display_data"
    }
   ],
   "source": [
    "fig, ax = plt.subplots(figsize=(12, 8))\n",
    "x = np.arange(len(num_nucleotides))\n",
    "ax.bar(x, num_nucleotides, width=1.0)\n",
    "ax.set_xlabel('Number of required mutations', size=16)\n",
    "ax.set_ylabel('Number of nucleotides', size=16)\n",
    "ax.axvline(x=100, color='red', label='100')\n",
    "ax.axvline(x=1000, color='black', label='1000')\n",
    "ax.axvline(x=10000, color='orange', label='10000')\n",
    "ax.legend()\n",
    "plt.show()"
   ]
  },
  {
   "cell_type": "code",
   "execution_count": 32,
   "id": "suitable-vintage",
   "metadata": {},
   "outputs": [
    {
     "data": {
      "image/png": "[encoded data removed]",
      "text/plain": [
       "<Figure size 864x576 with 1 Axes>"
      ]
     },
     "metadata": {
      "needs_background": "light"
     },
     "output_type": "display_data"
    }
   ],
   "source": [
    "x_min = 50\n",
    "x_max = 150\n",
    "\n",
    "fig, ax = plt.subplots(figsize=(12, 8))\n",
    "x = np.arange(len(num_nucleotides))\n",
    "ax.bar(x[x_min:x_max], num_nucleotides[x_min:x_max], width=1.0)\n",
    "ax.set_xlabel('Number of required mutations', size=16)\n",
    "ax.set_ylabel('Number of nucleotides', size=16)\n",
    "plt.show()"
   ]
  },
  {
   "cell_type": "code",
   "execution_count": 35,
   "id": "historic-tunnel",
   "metadata": {},
   "outputs": [
    {
     "data": {
      "text/plain": [
       "0.028571428571428574"
      ]
     },
     "execution_count": 35,
     "metadata": {},
     "output_type": "execute_result"
    }
   ],
   "source": [
    "2000 / 7000000 * 100"
   ]
  },
  {
   "cell_type": "code",
   "execution_count": 36,
   "id": "collective-workplace",
   "metadata": {},
   "outputs": [
    {
     "data": {
      "text/plain": [
       "175000.0"
      ]
     },
     "execution_count": 36,
     "metadata": {},
     "output_type": "execute_result"
    }
   ],
   "source": [
    ".025 * 7000000"
   ]
  },
  {
   "cell_type": "code",
   "execution_count": null,
   "id": "provincial-pathology",
   "metadata": {},
   "outputs": [],
   "source": []
  }
 ],
 "metadata": {
  "kernelspec": {
   "display_name": "Python 3",
   "language": "python",
   "name": "python3"
  },
  "language_info": {
   "codemirror_mode": {
    "name": "ipython",
    "version": 3
   },
   "file_extension": ".py",
   "mimetype": "text/x-python",
   "name": "python",
   "nbconvert_exporter": "python",
   "pygments_lexer": "ipython3",
   "version": "3.7.10"
  }
 },
 "nbformat": 4,
 "nbformat_minor": 5
}
