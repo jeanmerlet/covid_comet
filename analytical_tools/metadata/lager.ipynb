{
 "cells": [
  {
   "cell_type": "code",
   "execution_count": 8,
   "id": "86bd700f",
   "metadata": {
    "tags": []
   },
   "outputs": [],
   "source": [
    "import os, sys, glob, time, pdb\n",
    "import numpy as np\n",
    "import pandas as pd\n",
    "import matplotlib as mpl\n",
    "import matplotlib.cm\n",
    "import matplotlib.pyplot as plt\n",
    "import multiprocessing\n",
    "from multiprocessing import Pool\n",
    "from importlib import reload\n",
    "import socket"
   ]
  },
  {
   "cell_type": "code",
   "execution_count": 9,
   "id": "bc1cf246",
   "metadata": {},
   "outputs": [
    {
     "name": "stdout",
     "output_type": "stream",
     "text": [
      "hostname: andes107.olcf.ornl.gov\n",
      "conda env: /gpfs/alpine/syb105/proj-shared/Personal/jmerlet/envs/conda/andes/andes_matplotlib\n"
     ]
    }
   ],
   "source": [
    "hostname = socket.gethostname()\n",
    "print(f'hostname: {hostname}')\n",
    "print(f\"conda env: {os.environ['CONDA_DEFAULT_ENV']}\")\n",
    "data_root = '/gpfs/alpine/syb105/proj-shared/Projects/GeoBio_CoMet/data'\n",
    "out_root = '/gpfs/alpine/syb105/proj-shared/Personal/jmerlet/projects/sars_cov_2_geo'"
   ]
  },
  {
   "cell_type": "code",
   "execution_count": 3,
   "id": "efde4f79",
   "metadata": {},
   "outputs": [],
   "source": [
    "# load metadata\n",
    "meta_path = os.path.join(data_root, 'metadata/metadata_2022_06_02/metadata.tsv')\n",
    "meta = pd.read_csv(meta_path, sep='\\t', low_memory=False)\n",
    "total_entries = len(meta)"
   ]
  },
  {
   "cell_type": "code",
   "execution_count": 4,
   "id": "81acfe49-b19f-4890-9869-f601fd17c751",
   "metadata": {},
   "outputs": [
    {
     "data": {
      "text/plain": [
       "Index(['Virus name', 'Type', 'Accession ID', 'Collection date', 'Location',\n",
       "       'Additional location information', 'Sequence length', 'Host',\n",
       "       'Patient age', 'Gender', 'Clade', 'Pango lineage', 'Pangolin version',\n",
       "       'Variant', 'AA Substitutions', 'Submission date', 'Is reference?',\n",
       "       'Is complete?', 'Is high coverage?', 'Is low coverage?', 'N-Content',\n",
       "       'GC-Content'],\n",
       "      dtype='object')"
      ]
     },
     "execution_count": 4,
     "metadata": {},
     "output_type": "execute_result"
    }
   ],
   "source": [
    "meta.columns"
   ]
  },
  {
   "cell_type": "markdown",
   "id": "155abbd9-bbde-474d-88d4-46e04bafc952",
   "metadata": {},
   "source": [
    "## Gender"
   ]
  },
  {
   "cell_type": "code",
   "execution_count": 38,
   "id": "78173037-a0a4-432c-ace8-2b025c919380",
   "metadata": {},
   "outputs": [],
   "source": [
    "gender = meta.loc[:, 'Gender']\n",
    "gender = np.char.lower(gender.values.astype(str))"
   ]
  },
  {
   "cell_type": "code",
   "execution_count": 44,
   "id": "76b0fc28-842b-4964-a8fd-9ef960791015",
   "metadata": {},
   "outputs": [],
   "source": [
    "uniq_genders, count_genders = np.unique(gender, return_counts=True)\n",
    "idx = np.argsort(count_genders)[::-1]\n",
    "uniq_genders = uniq_genders[idx]\n",
    "counts_genders = count_genders[idx]"
   ]
  },
  {
   "cell_type": "code",
   "execution_count": 45,
   "id": "1e798128-8b1b-43f6-b1fd-693bdde1bb73",
   "metadata": {},
   "outputs": [
    {
     "data": {
      "text/plain": [
       "array(['unknown', 'female', 'male', 'unknow', 'nan', 'ambiguous',\n",
       "       'missing', 'unkown', 'not provided', 'unkmown'], dtype='<U29')"
      ]
     },
     "execution_count": 45,
     "metadata": {},
     "output_type": "execute_result"
    }
   ],
   "source": [
    "uniq_genders[:10]"
   ]
  },
  {
   "cell_type": "code",
   "execution_count": 46,
   "id": "766cadd3-c756-4896-b1ce-a81f0982e139",
   "metadata": {},
   "outputs": [
    {
     "data": {
      "text/plain": [
       "array([7017212, 2133501, 1983003,    3169,    2891,    1179,     922,\n",
       "           768,     727,     590])"
      ]
     },
     "execution_count": 46,
     "metadata": {},
     "output_type": "execute_result"
    }
   ],
   "source": [
    "counts_genders[:10]"
   ]
  },
  {
   "cell_type": "markdown",
   "id": "d29b1578-1740-47dc-9e40-7d4ae461b6f4",
   "metadata": {},
   "source": [
    "## Age"
   ]
  },
  {
   "cell_type": "code",
   "execution_count": 51,
   "id": "2101126e-b45f-4b67-a522-ba7b08c66364",
   "metadata": {},
   "outputs": [],
   "source": [
    "age = meta.loc[:, 'Patient age']\n",
    "age_str = age[:, "
   ]
  },
  {
   "cell_type": "code",
   "execution_count": 54,
   "id": "c2362ab0-d0f6-4751-824e-414fa98e27a9",
   "metadata": {},
   "outputs": [
    {
     "data": {
      "text/plain": [
       "0           unknown\n",
       "1           unknown\n",
       "2           unknown\n",
       "3           unknown\n",
       "4           unknown\n",
       "             ...   \n",
       "11152776    unknown\n",
       "11152777    unknown\n",
       "11152778    unknown\n",
       "11152779    unknown\n",
       "11152780    unknown\n",
       "Name: Patient age, Length: 11152781, dtype: object"
      ]
     },
     "execution_count": 54,
     "metadata": {},
     "output_type": "execute_result"
    }
   ],
   "source": [
    "age"
   ]
  },
  {
   "cell_type": "code",
   "execution_count": 53,
   "id": "9cefceef-8500-4289-a20c-9f5590622a26",
   "metadata": {},
   "outputs": [
    {
     "ename": "TypeError",
     "evalue": "'<' not supported between instances of 'float' and 'str'",
     "output_type": "error",
     "traceback": [
      "\u001b[0;31m---------------------------------------------------------------------------\u001b[0m",
      "\u001b[0;31mTypeError\u001b[0m                                 Traceback (most recent call last)",
      "Input \u001b[0;32mIn [53]\u001b[0m, in \u001b[0;36m<cell line: 1>\u001b[0;34m()\u001b[0m\n\u001b[0;32m----> 1\u001b[0m uniq_ages, count_ages \u001b[38;5;241m=\u001b[39m \u001b[43mnp\u001b[49m\u001b[38;5;241;43m.\u001b[39;49m\u001b[43munique\u001b[49m\u001b[43m(\u001b[49m\u001b[43mage\u001b[49m\u001b[43m,\u001b[49m\u001b[43m \u001b[49m\u001b[43mreturn_counts\u001b[49m\u001b[38;5;241;43m=\u001b[39;49m\u001b[38;5;28;43;01mTrue\u001b[39;49;00m\u001b[43m)\u001b[49m\n\u001b[1;32m      2\u001b[0m idx \u001b[38;5;241m=\u001b[39m np\u001b[38;5;241m.\u001b[39margsort(count_ages)[::\u001b[38;5;241m-\u001b[39m\u001b[38;5;241m1\u001b[39m]\n\u001b[1;32m      3\u001b[0m uniq_ages \u001b[38;5;241m=\u001b[39m uniq_ages[idx]\n",
      "File \u001b[0;32m<__array_function__ internals>:180\u001b[0m, in \u001b[0;36munique\u001b[0;34m(*args, **kwargs)\u001b[0m\n",
      "File \u001b[0;32m/gpfs/alpine/syb105/proj-shared/Personal/jmerlet/envs/conda/andes/andes_matplotlib/lib/python3.10/site-packages/numpy/lib/arraysetops.py:274\u001b[0m, in \u001b[0;36munique\u001b[0;34m(ar, return_index, return_inverse, return_counts, axis, equal_nan)\u001b[0m\n\u001b[1;32m    272\u001b[0m ar \u001b[38;5;241m=\u001b[39m np\u001b[38;5;241m.\u001b[39masanyarray(ar)\n\u001b[1;32m    273\u001b[0m \u001b[38;5;28;01mif\u001b[39;00m axis \u001b[38;5;129;01mis\u001b[39;00m \u001b[38;5;28;01mNone\u001b[39;00m:\n\u001b[0;32m--> 274\u001b[0m     ret \u001b[38;5;241m=\u001b[39m \u001b[43m_unique1d\u001b[49m\u001b[43m(\u001b[49m\u001b[43mar\u001b[49m\u001b[43m,\u001b[49m\u001b[43m \u001b[49m\u001b[43mreturn_index\u001b[49m\u001b[43m,\u001b[49m\u001b[43m \u001b[49m\u001b[43mreturn_inverse\u001b[49m\u001b[43m,\u001b[49m\u001b[43m \u001b[49m\u001b[43mreturn_counts\u001b[49m\u001b[43m,\u001b[49m\u001b[43m \u001b[49m\n\u001b[1;32m    275\u001b[0m \u001b[43m                    \u001b[49m\u001b[43mequal_nan\u001b[49m\u001b[38;5;241;43m=\u001b[39;49m\u001b[43mequal_nan\u001b[49m\u001b[43m)\u001b[49m\n\u001b[1;32m    276\u001b[0m     \u001b[38;5;28;01mreturn\u001b[39;00m _unpack_tuple(ret)\n\u001b[1;32m    278\u001b[0m \u001b[38;5;66;03m# axis was specified and not None\u001b[39;00m\n",
      "File \u001b[0;32m/gpfs/alpine/syb105/proj-shared/Personal/jmerlet/envs/conda/andes/andes_matplotlib/lib/python3.10/site-packages/numpy/lib/arraysetops.py:336\u001b[0m, in \u001b[0;36m_unique1d\u001b[0;34m(ar, return_index, return_inverse, return_counts, equal_nan)\u001b[0m\n\u001b[1;32m    334\u001b[0m     aux \u001b[38;5;241m=\u001b[39m ar[perm]\n\u001b[1;32m    335\u001b[0m \u001b[38;5;28;01melse\u001b[39;00m:\n\u001b[0;32m--> 336\u001b[0m     \u001b[43mar\u001b[49m\u001b[38;5;241;43m.\u001b[39;49m\u001b[43msort\u001b[49m\u001b[43m(\u001b[49m\u001b[43m)\u001b[49m\n\u001b[1;32m    337\u001b[0m     aux \u001b[38;5;241m=\u001b[39m ar\n\u001b[1;32m    338\u001b[0m mask \u001b[38;5;241m=\u001b[39m np\u001b[38;5;241m.\u001b[39mempty(aux\u001b[38;5;241m.\u001b[39mshape, dtype\u001b[38;5;241m=\u001b[39mnp\u001b[38;5;241m.\u001b[39mbool_)\n",
      "\u001b[0;31mTypeError\u001b[0m: '<' not supported between instances of 'float' and 'str'"
     ]
    }
   ],
   "source": [
    "uniq_ages, count_ages = np.unique(age, return_counts=True)\n",
    "idx = np.argsort(count_ages)[::-1]\n",
    "uniq_ages = uniq_ages[idx]\n",
    "counts_ages = count_ages[idx]"
   ]
  },
  {
   "cell_type": "markdown",
   "id": "8ca2dd5e-a214-465f-9297-d0b6190dc141",
   "metadata": {},
   "source": [
    "## Wuhan-1 in Wuhan cluster"
   ]
  },
  {
   "cell_type": "code",
   "execution_count": 14,
   "id": "08373e79-38cd-4b19-b03a-cb92e22705f0",
   "metadata": {},
   "outputs": [],
   "source": [
    "clusters_path = os.path.join(data_root, 'aligned/sequences_2022_06_02/uniq_ids/preprocessed_d-cutoff_1000_n-cutoff_0.01_pos_342-29665/ns-as-0s_mutation_count_filtered_100/thresh_run_HH-0.19991/hip_mcl/clusters_inflation-1.2.tsv')"
   ]
  },
  {
   "cell_type": "code",
   "execution_count": 18,
   "id": "f1bd32fa-d820-408d-96b2-e8162e230179",
   "metadata": {},
   "outputs": [
    {
     "name": "stdout",
     "output_type": "stream",
     "text": [
      "43\n",
      "11489\n"
     ]
    }
   ],
   "source": [
    "lgst_wuhan_cluster_idx = 0\n",
    "lgst_wuhan_cluster_size = 0\n",
    "\n",
    "with open(clusters_path) as in_file:\n",
    "    for i, line in enumerate(in_file):\n",
    "        seqs = line.strip().split(' ')\n",
    "        num_seqs = len(seqs)\n",
    "        if '000000000_T' in seqs or '000000000_A' in seqs:\n",
    "            if num_seqs > lgst_wuhan_cluster_size:\n",
    "                lgst_wuhan_cluster_size = num_seqs\n",
    "                lgst_wuhan_cluster_idx = i\n",
    "                \n",
    "print(lgst_wuhan_cluster_idx)\n",
    "print(lgst_wuhan_cluster_size)"
   ]
  },
  {
   "cell_type": "code",
   "execution_count": 19,
   "id": "0b853931-a6d5-43a0-b472-0229ef5a86ad",
   "metadata": {},
   "outputs": [],
   "source": [
    "with open(clusters_path) as in_file:\n",
    "    for i, line in enumerate(in_file):\n",
    "        if i != lgst_wuhan_cluster_idx:\n",
    "            continue\n",
    "        else:\n",
    "            wuhan = line.strip().split(' ')"
   ]
  },
  {
   "cell_type": "code",
   "execution_count": 23,
   "id": "41d5b26b-f578-4834-8185-2359d79dec49",
   "metadata": {},
   "outputs": [],
   "source": [
    "# getting similarity scores for wuhan not wuhan\n",
    "edge_values_path = os.path.join(data_root, 'aligned/sequences_2022_06_02/uniq_ids/preprocessed_d-cutoff_1000_n-cutoff_0.01_pos_342-29665/ns-as-0s_mutation_count_filtered_100/thresh_run_HH-0.19991/combined_all.tsv')"
   ]
  },
  {
   "cell_type": "code",
   "execution_count": null,
   "id": "50f0fe3c-f75c-4673-84b9-4bb77c8e6355",
   "metadata": {},
   "outputs": [
    {
     "name": "stdout",
     "output_type": "stream",
     "text": [
      "0\n"
     ]
    }
   ],
   "source": [
    "identical_seqs = []\n",
    "with open(edge_values_path) as in_file:\n",
    "    for i, line in enumerate(in_file):\n",
    "        seq_a, seq_b, score = line.strip().split('\\t')\n",
    "        if seq_a == '000000000_T':\n",
    "            if score == 2.0:\n",
    "                identical_seqs.append(seq_b)\n",
    "        elif seq_b == '000000000_T':\n",
    "            if score == 2.0:\n",
    "                identical_seqs.append(seq_a)\n",
    "        if i % 100000000000 == 0: print(i)    "
   ]
  },
  {
   "cell_type": "code",
   "execution_count": null,
   "id": "765eed76-acbf-4e07-953e-290f14e565c5",
   "metadata": {},
   "outputs": [],
   "source": []
  }
 ],
 "metadata": {
  "kernelspec": {
   "display_name": "Python 3 (ipykernel)",
   "language": "python",
   "name": "python3"
  },
  "language_info": {
   "codemirror_mode": {
    "name": "ipython",
    "version": 3
   },
   "file_extension": ".py",
   "mimetype": "text/x-python",
   "name": "python",
   "nbconvert_exporter": "python",
   "pygments_lexer": "ipython3",
   "version": "3.10.9"
  }
 },
 "nbformat": 4,
 "nbformat_minor": 5
}
